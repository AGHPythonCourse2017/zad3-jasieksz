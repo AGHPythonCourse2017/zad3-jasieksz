{
 "cells": [
  {
   "cell_type": "code",
   "execution_count": 6,
   "metadata": {
    "collapsed": false
   },
   "outputs": [
    {
     "name": "stdout",
     "output_type": "stream",
     "text": [
      "[]\n"
     ]
    }
   ],
   "source": [
    "from newspaper import Article\n",
    "import wikipedia\n",
    "\n",
    "bbc = \"http://www.bbc.com/news/world-us-canada-39945744\"\n",
    "insider = \"http://uk.businessinsider.com/man-who-attacked-the-ariane-grande-concert-in-manchester-named-2017-5\"\n",
    "cnn = \"http://cnn.com.de/news/donald-trump-says-earth-flat/\" #fake cnn\n",
    "gazeta = \"http://wiadomosci.gazeta.pl/wiadomosci/7,114884,21857830,macierewicz-przetrwal-wniosek-platformy-o-jego-odwolanie-przepadl.html#MT\"\n",
    "\n",
    "article = Article(gazeta)\n",
    "article.download()\n",
    "article.parse()\n",
    "authors = article.authors \n",
    "\n",
    "print(authors)\n",
    "#author_wiki = wikipedia.page(authors[1])\n",
    "#print(wikipedia.search(authors[0]))\n"
   ]
  },
  {
   "cell_type": "code",
   "execution_count": null,
   "metadata": {
    "collapsed": true
   },
   "outputs": [],
   "source": []
  }
 ],
 "metadata": {
  "kernelspec": {
   "display_name": "Python 3",
   "language": "python",
   "name": "python3"
  },
  "language_info": {
   "codemirror_mode": {
    "name": "ipython",
    "version": 3
   },
   "file_extension": ".py",
   "mimetype": "text/x-python",
   "name": "python",
   "nbconvert_exporter": "python",
   "pygments_lexer": "ipython3",
   "version": "3.6.0"
  }
 },
 "nbformat": 4,
 "nbformat_minor": 2
}
