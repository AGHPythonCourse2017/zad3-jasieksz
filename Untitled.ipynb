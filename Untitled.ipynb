{
 "cells": [
  {
   "cell_type": "code",
   "execution_count": 97,
   "metadata": {
    "collapsed": false
   },
   "outputs": [],
   "source": [
    "import json\n",
    "\n",
    "# Gets list of webpages and their type - from opensource.co \n",
    "with open('opensource_co.json', encoding='utf-8') as data_file:\n",
    "    data = json.loads(data_file.read())\n",
    "    \n",
    "# Gets domains from url\n",
    "def urlparser(url):\n",
    "    length = len(url)\n",
    "    if (url.startswith(\"https://\")):\n",
    "        url = url[8:length]\n",
    "    if (url.startswith(\"http://\")):\n",
    "        url = url[7:length]\n",
    "    if (\"/\" in url):\n",
    "        slash = url.index(\"/\")\n",
    "        if (url.startswith(\"www.\")):\n",
    "            url = url[4:slash]\n",
    "        else:\n",
    "            url = url[0:slash]\n",
    "    return url\n",
    "\n",
    "# Checks if source is classified as 'fake'\n",
    "def checkfaketype(url):\n",
    "    if url not in data:\n",
    "        return -1\n",
    "    else:\n",
    "        t1 = data[url]['type']\n",
    "        t2 = data[url]['2nd type']\n",
    "        t3 = data[url]['3rd type']\n",
    "        if (\"fake\" in t1 or \n",
    "            \"fake\" in t2 or \n",
    "            \"fake\" in t3):\n",
    "            return 1\n",
    "        else:\n",
    "            return 0\n",
    "\n",
    "# Works best with domain-only url as argument \n",
    "def webpagecheck(url):\n",
    "    url = urlparser(url)\n",
    "    b = checkfaketype(url)\n",
    "    if (b == -1):\n",
    "        print(\"Source is unknown, however probably relaiable.\")\n",
    "    if (b == 1):\n",
    "        print (\"News from this source are probably fake!\")\n",
    "    if (b == 0):\n",
    "        print (\"News from this soucre are relaiable!\")\n",
    "    return None\n",
    "\n",
    "# webpagecheck(\"http://www.bbc.com/sport/live/tennis/39832463\")"
   ]
  },
  {
   "cell_type": "code",
   "execution_count": 133,
   "metadata": {
    "collapsed": false
   },
   "outputs": [
    {
     "name": "stdout",
     "output_type": "stream",
     "text": [
      "Your answer is correct, good job!\n"
     ]
    }
   ],
   "source": [
    "import wolframalpha\n",
    "\n",
    "client = wolframalpha.Client('P7UPQ6-JPXYQKL84U') #P7UPQ6-JPXYQKL84U\n",
    "\n",
    "# Get query\n",
    "def askwolfram(question):\n",
    "    res = client.query(question)\n",
    "    for pod in res.pods:\n",
    "        if (pod.title == \"Result\"):\n",
    "            for sub in pod.subpods:\n",
    "                 return sub.plaintext\n",
    "\n",
    "# Works best for social/economy statistical data\n",
    "def checkfact(question,answer):\n",
    "    result = askwolfram(question)\n",
    "    if (answer in result):\n",
    "        print(\"Your answer is correct, good job!\")\n",
    "    else:\n",
    "        print (\"You are wrong, sorry.\")\n",
    "        print (\"Correct answer is : \")\n",
    "        print(result)\n",
    "    return None\n",
    "        \n",
    "# checkfact(\"What is the meaning of life\",\"42\")"
   ]
  },
  {
   "cell_type": "code",
   "execution_count": 127,
   "metadata": {
    "collapsed": false
   },
   "outputs": [
    {
     "name": "stdout",
     "output_type": "stream",
     "text": [
      "TAK\n"
     ]
    }
   ],
   "source": [
    ""
   ]
  }
 ],
 "metadata": {
  "kernelspec": {
   "display_name": "Python 3",
   "language": "python",
   "name": "python3"
  },
  "language_info": {
   "codemirror_mode": {
    "name": "ipython",
    "version": 3.0
   },
   "file_extension": ".py",
   "mimetype": "text/x-python",
   "name": "python",
   "nbconvert_exporter": "python",
   "pygments_lexer": "ipython3",
   "version": "3.6.0"
  }
 },
 "nbformat": 4,
 "nbformat_minor": 0
}